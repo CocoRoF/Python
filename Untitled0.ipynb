{
  "nbformat": 4,
  "nbformat_minor": 0,
  "metadata": {
    "colab": {
      "name": "Untitled0.ipynb",
      "provenance": [],
      "collapsed_sections": [],
      "mount_file_id": "1uqX648QPEiGDA4NW0xl5qdCNU_4wDz06",
      "authorship_tag": "ABX9TyPwcpW7Rh1RpgohSxP69slC"
    },
    "kernelspec": {
      "name": "python3",
      "display_name": "Python 3"
    },
    "language_info": {
      "name": "python"
    },
    "accelerator": "GPU"
  },
  "cells": [
    {
      "cell_type": "code",
      "execution_count": null,
      "metadata": {
        "id": "c9Yofl_HfY_q"
      },
      "outputs": [],
      "source": [
        "NGROK_TOKEN = '26nEUQkIORIDerNKDUh4lgAjbAH_6pbtXqaeGQosvZZwEppSn'\n",
        "PASSWORD = '976897'"
      ]
    },
    {
      "cell_type": "code",
      "source": [
        "!pip install colab-ssh"
      ],
      "metadata": {
        "colab": {
          "base_uri": "https://localhost:8080/"
        },
        "id": "nCRw6H_5fapk",
        "outputId": "fe8e5800-163a-4474-99be-0af39eb91e86"
      },
      "execution_count": null,
      "outputs": [
        {
          "output_type": "stream",
          "name": "stdout",
          "text": [
            "Collecting colab-ssh\n",
            "  Downloading colab_ssh-0.3.27-py3-none-any.whl (26 kB)\n",
            "Installing collected packages: colab-ssh\n",
            "Successfully installed colab-ssh-0.3.27\n"
          ]
        }
      ]
    },
    {
      "cell_type": "code",
      "source": [
        "from colab_ssh import launch_ssh"
      ],
      "metadata": {
        "id": "Uy-Jm47_gAdA"
      },
      "execution_count": null,
      "outputs": []
    },
    {
      "cell_type": "code",
      "source": [
        "launch_ssh(NGROK_TOKEN, PASSWORD)"
      ],
      "metadata": {
        "colab": {
          "base_uri": "https://localhost:8080/"
        },
        "id": "6IHKH_-FfasU",
        "outputId": "25ccaebd-5cea-4a91-a700-d54d95625d53"
      },
      "execution_count": null,
      "outputs": [
        {
          "output_type": "stream",
          "name": "stdout",
          "text": [
            "Warning: Due to some issues with ngrok on Google Colab, reported in the issue https://github.com/WassimBenzarti/colab-ssh/issues/45, \n",
            "we highly recommend that update your code by following this documentation https://github.com/WassimBenzarti/colab-ssh#getting-started\n",
            "Successfully running 4.tcp.ngrok.io:17577\n",
            "[Optional] You can also connect with VSCode SSH Remote extension using this configuration:\n",
            "\n",
            "  Host google_colab_ssh\n",
            "    HostName 4.tcp.ngrok.io\n",
            "    User root\n",
            "    Port 17577\n",
            "    \n"
          ]
        }
      ]
    },
    {
      "cell_type": "code",
      "source": [
        ""
      ],
      "metadata": {
        "id": "H50i1zNjfavA"
      },
      "execution_count": null,
      "outputs": []
    }
  ]
}